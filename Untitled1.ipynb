{
 "cells": [
  {
   "cell_type": "code",
   "execution_count": 1,
   "id": "2fa1e516",
   "metadata": {},
   "outputs": [
    {
     "name": "stdout",
     "output_type": "stream",
     "text": [
      "1\n"
     ]
    }
   ],
   "source": [
    "def recurse(a):\n",
    "    if (a == 1):\n",
    "        print(a)\n",
    "    else:\n",
    "        recurse(a)\n",
    "\n",
    "recurse(1)"
   ]
  },
  {
   "cell_type": "code",
   "execution_count": 2,
   "id": "abb3bffe",
   "metadata": {},
   "outputs": [
    {
     "data": {
      "text/plain": [
       "0"
      ]
     },
     "execution_count": 2,
     "metadata": {},
     "output_type": "execute_result"
    }
   ],
   "source": []
  },
  {
   "cell_type": "code",
   "execution_count": 4,
   "id": "3f1d0383",
   "metadata": {},
   "outputs": [
    {
     "ename": "SyntaxError",
     "evalue": "'literal' is an illegal expression for augmented assignment (3483553760.py, line 1)",
     "output_type": "error",
     "traceback": [
      "\u001b[1;36m  Cell \u001b[1;32mIn[4], line 1\u001b[1;36m\u001b[0m\n\u001b[1;33m    2 += 2\u001b[0m\n\u001b[1;37m    ^\u001b[0m\n\u001b[1;31mSyntaxError\u001b[0m\u001b[1;31m:\u001b[0m 'literal' is an illegal expression for augmented assignment\n"
     ]
    }
   ],
   "source": [
    "\n",
    "2 += 2"
   ]
  },
  {
   "cell_type": "code",
   "execution_count": null,
   "id": "c71df456",
   "metadata": {},
   "outputs": [],
   "source": []
  }
 ],
 "metadata": {
  "kernelspec": {
   "display_name": "Python 3 (ipykernel)",
   "language": "python",
   "name": "python3"
  },
  "language_info": {
   "codemirror_mode": {
    "name": "ipython",
    "version": 3
   },
   "file_extension": ".py",
   "mimetype": "text/x-python",
   "name": "python",
   "nbconvert_exporter": "python",
   "pygments_lexer": "ipython3",
   "version": "3.11.2"
  }
 },
 "nbformat": 4,
 "nbformat_minor": 5
}
