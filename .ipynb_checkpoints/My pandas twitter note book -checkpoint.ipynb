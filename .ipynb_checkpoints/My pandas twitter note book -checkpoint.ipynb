{
 "cells": [
  {
   "cell_type": "markdown",
   "id": "169282e8",
   "metadata": {},
   "source": [
    "Questions for Revision.\n",
    "Try answering the following questions to test your understanding of the topics covered in this notebook:\n",
    "\n",
    "1.  What is Pandas? What makes it useful?\n",
    "2.  How do you install the Pandas library?\n",
    "3.  How do you import the pandas module?\n",
    "4.  What is the common alias used while importing the pandas module?\n",
    "5.  How do you read a CSV file using Pandas? Give an example?\n",
    "6.  What are some other file formats you can read using Pandas? Illustrate with examples.\n",
    "7.  What are Pandas dataframes?\n",
    "8.  How are Pandas dataframes different from Numpy arrays?\n",
    "9.  How do you find the number of rows and columns in a dataframe?\n",
    "10. How do you get the list of columns in a dataframe?\n",
    "11. What is the purpose of the describe method of a dataframe?\n",
    "12. How are the info and describe dataframe methods different?\n",
    "13. Is a Pandas dataframe conceptually similar to a list of dictionaries or a dictionary of lists? Explain with an example.\n",
    "14. What is a Pandas Series? How is it different from a Numpy array?\n",
    "15. How do you access a column from a dataframe?\n",
    "16. How do you access a row from a dataframe?\n",
    "17. How do you access an element at a specific row & column of a dataframe?\n",
    "18. How do you create a subset of a dataframe with a specific set of columns?\n",
    "19. How do you create a subset of a dataframe with a specific range of rows?\n",
    "20. Does changing a value within a dataframe affect other dataframes created using a subset of the rows or columns? Why is it so?\n",
    "21. How do you create a copy of a dataframe?\n",
    "22. Why should you avoid creating too many copies of a dataframe?\n",
    "23. How do you view the first few rows of a dataframe?\n",
    "24. How do you view the last few rows of a dataframe?\n",
    "25. How do you view a random selection of rows of a dataframe?\n",
    "26. What is the \"index\" in a dataframe? How is it useful?\n",
    "27. What does a NaN value in a Pandas dataframe represent?\n",
    "28. How is Nan different from 0?\n",
    "29. How do you identify the first non-empty row in a Pandas series or column?\n",
    "30. What is the difference between df.loc and df.at?\n",
    "31. Where can you find a full list of methods supported by Pandas DataFrame and Series objects?\n",
    "32. How do you find the sum of numbers in a column of dataframe?\n",
    "33. How do you find the mean of numbers in a column of a dataframe?\n",
    "34. How do you find the number of non-empty numbers in a column of a dataframe?\n",
    "35. What is the result obtained by using a Pandas column in a boolean expression? Illustrate with an example.\n",
    "36. How do you select a subset of rows where a specific column's value meets a given condition? Illustrate with an example.\n",
    "37. What is the result of the expression df[df.new_cases > 100] ?\n",
    "38. How do you display all the rows of a pandas dataframe in a Jupyter cell output?\n",
    "39. What is the result obtained when you perform an arithmetic operation between two columns of a dataframe? Illustrate with an example.\n",
    "40. How do you add a new column to a dataframe by combining values from two existing columns? Illustrate with an example.\n",
    "41. How do you remove a column from a dataframe? Illustrate with an example.\n",
    "42. What is the purpose of the inplace argument in dataframe methods?\n",
    "43. How do you sort the rows of a dataframe based on the values in a particular column?\n",
    "44. How do you sort a pandas dataframe using values from multiple columns?\n",
    "45. How do you specify whether to sort by ascending or descending order while sorting a Pandas dataframe?\n",
    "46. How do you change a specific value within a dataframe?\n",
    "47. How do you convert a dataframe column to the datetime data type?\n",
    "48. What are the benefits of using the datetime data type instead of object?\n",
    "49. How do you extract different parts of a date column like the month, year, month, weekday, etc., into separate columns? Illustrate with an example.\n",
    "50. How do you aggregate multiple columns of a dataframe together?\n",
    "51. What is the purpose of the groupby method of a dataframe? Illustrate with an example.\n",
    "52. What are the different ways in which you can aggregate the groups created by groupby?\n",
    "53. What do you mean by a running or cumulative sum?\n",
    "54. How do you create a new column containing the running or cumulative sum of another column?\n",
    "55. What are other cumulative measures supported by Pandas dataframes?\n",
    "56. What does it mean to merge two dataframes? Give an example.\n",
    "57. How do you specify the columns that should be used for merging two dataframes?\n",
    "58. How do you write data from a Pandas dataframe into a CSV file? Give an example.\n",
    "59. What are some other file formats you can write to from a Pandas dataframe? Illustrate with examples.\n",
    "60. How do you create a line plot showing the values within a column of dataframe?\n",
    "61. How do you convert a column of a dataframe into its index?\n",
    "62. Can the index of a dataframe be non-numeric?\n",
    "63. What are the benefits of using a non-numeric dataframe? Illustrate with an example.\n",
    "64. How you create a bar plot showing the values within a column of a dataframe?\n",
    "65. What are some other types of plots supported by Pandas dataframes and series?"
   ]
  },
  {
   "cell_type": "markdown",
   "id": "e2360cce",
   "metadata": {},
   "source": [
    "### What is Pandas? \n",
    "\n",
    "Pandas is a popular Python library used for working in tabular data (similar to the data stored in a spreadsheet). Pandas provides helper functions to read data from various file formats like CSV, Excel spreadsheets, HTML tables, JSON, SQL, and more.\n",
    "It provides, easy to use data structures, such as data frames, and some functions for cleaning,transforming and analyzing data.\n",
    "\n",
    "\n",
    "### What makes pandas so useful?\n",
    "\n",
    "Pandas is so useful in so many ways in data analysis and Data science. It provides powerful tools for\n",
    "manipulating and transforming data such as \n",
    "reshaping data, filtering data, sorting data, aggregating data, merging or joining different data sets, plotting graphs,\n",
    "easy handling of missing data, representing data in tabular form and many more\n",
    "\n",
    "#### Pandas is also useful in visualizing data. \n",
    "It's a good team-mate with matplotlib and seaborn allowing user to easily creates visualization of data. \n",
    "  \n",
    "#### Data analysis: \n",
    "It helps the user to analyze data efficiently for descriptive statistics, grouping data and performing calculations on data column.\n",
    "\n",
    "\n",
    "#### Efficiently handles large amounts of data: \n",
    "Pandas can handle very large amount of data efficiently. It saves a lot of time by importing large amount of data quickly.\n",
    "\n",
    "Overall, pandas is easy to understand and user friendly Application Interface(API) along with it's extensive documentation and community suppports make it accessible to users. Whether you want to clean messy data, perform complex data transformation, or analyze dataset, Pandas have an efficient solution for them.\n",
    "\n",
    "\n"
   ]
  },
  {
   "cell_type": "code",
   "execution_count": null,
   "id": "a4e885ef",
   "metadata": {},
   "outputs": [],
   "source": []
  },
  {
   "cell_type": "markdown",
   "id": "efafda97",
   "metadata": {},
   "source": [
    "**How do you install the Pandas library?**\n",
    "\n",
    "**If you are working with conda.**\n",
    "In the anaconda powershell terminal or command prompt type\n",
    "\n",
    "conda install -c conda-forge pandas\n",
    "\n",
    "**If you prefer pip just type the below command in your terminal or command prompt.**\n",
    "\n",
    "\n",
    "\n",
    "pip install pandas\n",
    "\n",
    "** This commands will download download and install the Pandas library from the Python Package Index(PyPl).**\n",
    "\n",
    "### Make sure you're connected to the internet before you start installing."
   ]
  },
  {
   "cell_type": "code",
   "execution_count": null,
   "id": "686c20d1",
   "metadata": {},
   "outputs": [],
   "source": []
  },
  {
   "cell_type": "markdown",
   "id": "606b9af5",
   "metadata": {},
   "source": [
    "### How do you import the pandas module?"
   ]
  },
  {
   "cell_type": "code",
   "execution_count": 2,
   "id": "0b4b6239",
   "metadata": {},
   "outputs": [],
   "source": [
    "import pandas as pd # pd is the alias commonly used while importing pandas module. "
   ]
  },
  {
   "cell_type": "markdown",
   "id": "ff3813d3",
   "metadata": {},
   "source": [
    "### How do you read a CSV file using Pandas? Give an example?\n",
    "\n",
    "A CSV (Comma-Separated Values) file or a delimited text file that uses a 'comma'(,) to separate values is a plain text\n",
    "file format that stores tabular data. Each line of the file represents a row of data record and the values within each lines are seperated by 'commas'(,) or other delimeters, such as semicolons(:) or tabs. A CSV file typically stores tabular data (numbers and text) in plain text, in which case each line will have the same number of fields.\n",
    "\n",
    "(HTA)\n",
    "\n",
    "**To read a CSV file in python, we can use the pandas library in python \"read_csv()\" function.**\n",
    "\n",
    "I already a csv dowloaded \n",
    "\n",
    "\n",
    "This is a data file containing some informations about the world\n",
    "\n",
    "\n",
    "'locations.csv'  \n",
    "\n",
    "\n",
    "Below is an example of how to do it:"
   ]
  },
  {
   "cell_type": "code",
   "execution_count": 2,
   "id": "05e6859a",
   "metadata": {},
   "outputs": [
    {
     "ename": "NameError",
     "evalue": "name 'pd' is not defined",
     "output_type": "error",
     "traceback": [
      "\u001b[1;31m---------------------------------------------------------------------------\u001b[0m",
      "\u001b[1;31mNameError\u001b[0m                                 Traceback (most recent call last)",
      "Cell \u001b[1;32mIn[2], line 1\u001b[0m\n\u001b[1;32m----> 1\u001b[0m location_df \u001b[38;5;241m=\u001b[39m pd\u001b[38;5;241m.\u001b[39mread_csv(\u001b[38;5;124m'\u001b[39m\u001b[38;5;124mlocations.csv\u001b[39m\u001b[38;5;124m'\u001b[39m)\n",
      "\u001b[1;31mNameError\u001b[0m: name 'pd' is not defined"
     ]
    }
   ],
   "source": [
    "\n",
    "location_df = pd.read_csv('locations.csv')\n"
   ]
  },
  {
   "cell_type": "markdown",
   "id": "3c5d6e9f",
   "metadata": {},
   "source": [
    "### What are some other file formats you can read using Pandas? Illustrate with examples.\n",
    "\n",
    "\n",
    "Pandas is a powerful library. It can read almost any file.\n",
    "We can use pandas to read  \n",
    "\n",
    "Excel files using: pd.read_excel, \n",
    "\n",
    "Html files using:  pd.read_html(), \n",
    "\n",
    "Json(JavaScript object notation) files using:  pd.read_json() and more.....\n",
    "\n",
    "Read pandas documentation for more..."
   ]
  },
  {
   "cell_type": "code",
   "execution_count": null,
   "id": "0be9de03",
   "metadata": {},
   "outputs": [],
   "source": []
  },
  {
   "cell_type": "markdown",
   "id": "a5d2585b",
   "metadata": {},
   "source": [
    "**What are Pandas dataframes?**\n",
    "\n",
    "Pandas Dataframe is a 2-dimensional data structure that is similar to a table in relational database or a spreadsheet. \n",
    "It consists of rows and columns, where each column can have a different data types like characters, integers, \n",
    "string, floating points values which are labeled with a unique column name.\n",
    "\n",
    "DataFrames in Pandas provide a powerful and flexible way to store, display, manipulate, and analyze data. It can efficiently handle large datasets and offer various operations such as filteration of data, sorting data, grouping data, merging or joining data and the likes. "
   ]
  },
  {
   "cell_type": "code",
   "execution_count": null,
   "id": "219fe15f",
   "metadata": {},
   "outputs": [],
   "source": []
  },
  {
   "cell_type": "code",
   "execution_count": null,
   "id": "1947f531",
   "metadata": {},
   "outputs": [],
   "source": [
    "How are Pandas dataframes different from Numpy arrays?"
   ]
  },
  {
   "cell_type": "markdown",
   "id": "33a80bf8",
   "metadata": {},
   "source": [
    "\n",
    "\n",
    "\n",
    "\n",
    "\n",
    "How are Pandas dataframes different from Numpy arrays?\n",
    "How do you find the number of rows and columns in a dataframe?\n",
    "How do you get the list of columns in a dataframe?"
   ]
  }
 ],
 "metadata": {
  "kernelspec": {
   "display_name": "Python 3 (ipykernel)",
   "language": "python",
   "name": "python3"
  },
  "language_info": {
   "codemirror_mode": {
    "name": "ipython",
    "version": 3
   },
   "file_extension": ".py",
   "mimetype": "text/x-python",
   "name": "python",
   "nbconvert_exporter": "python",
   "pygments_lexer": "ipython3",
   "version": "3.11.5"
  }
 },
 "nbformat": 4,
 "nbformat_minor": 5
}
